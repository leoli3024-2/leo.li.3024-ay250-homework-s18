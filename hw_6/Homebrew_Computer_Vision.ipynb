{
 "cells": [
  {
   "cell_type": "markdown",
   "metadata": {},
   "source": [
    "# HW6: Supervised Machine Learning - Homebrew Computer Vision\n",
    "\n",
    "In this assignment, we are to build a **random forest classifier** that takes as input one of the given images and classifies into 1 of the 50 catigories (built from the provided training dataset, found here: https://www.dropbox.com/s/cst9awcjpp08k33/50_categories.tar.gz) using 37 (out of 50) computed features.\n",
    "\n",
    "\n",
    "Question to consider: \n",
    "1. How much better is this than the expectation with random guessing?\n",
    "2. What are the 3 most important features?\n",
    "\n",
    "**The final classifier to be run on any directory of different images can be found in the last cell of this document that looks like:**"
   ]
  },
  {
   "cell_type": "code",
   "execution_count": 2,
   "metadata": {},
   "outputs": [],
   "source": [
    "# run_final_classifier(\"img_dir = /some directory\")"
   ]
  },
  {
   "cell_type": "markdown",
   "metadata": {},
   "source": [
    "First import neccessary packages."
   ]
  },
  {
   "cell_type": "code",
   "execution_count": 27,
   "metadata": {},
   "outputs": [],
   "source": [
    "# A must for array mulnipulations\n",
    "import numpy as np\n",
    "\n",
    "# Systematic operation/interaction \n",
    "import os\n",
    "import pickle\n",
    "\n",
    "# multiprocessing for speed ups\n",
    "from multiprocessing import Pool, cpu_count\n",
    "\n",
    "# Image feature extraction\n",
    "from skimage.io import imread\n",
    "from skimage.color import rgb2gray\n",
    "from skimage.feature import corner_harris, corner_peaks, blob_doh, blob_dog\n",
    "from skimage.segmentation import quickshift\n",
    "\n",
    "# A fast, extensible smart progress meter\n",
    "from tqdm import tqdm\n",
    "\n",
    "# plotting\n",
    "import matplotlib.pyplot as plt\n",
    "import seaborn as sns\n",
    "sns.set_style('ticks')\n",
    "sns.set_color_codes()\n",
    "sns.set_context('poster')\n",
    "%matplotlib inline"
   ]
  },
  {
   "cell_type": "markdown",
   "metadata": {},
   "source": [
    "## Global Variables & Paths setting"
   ]
  },
  {
   "cell_type": "code",
   "execution_count": 14,
   "metadata": {},
   "outputs": [],
   "source": [
    "trainning_set = './50_categories/'"
   ]
  },
  {
   "cell_type": "code",
   "execution_count": 15,
   "metadata": {},
   "outputs": [],
   "source": [
    "image_paths = []\n",
    "for cat in os.listdir(trainning_set):\n",
    "    cat_path = os.path.join(trainning_set, cat)\n",
    "    for img in os.listdir(cat_path):\n",
    "        image_paths.append(os.path.join(cat_path, img))"
   ]
  },
  {
   "cell_type": "code",
   "execution_count": 16,
   "metadata": {},
   "outputs": [],
   "source": [
    "def label_from_path(path):\n",
    "    \"\"\"Extract the name/labels of the path\"\"\"\n",
    "    return path.split('/')[-2]"
   ]
  },
  {
   "cell_type": "code",
   "execution_count": 17,
   "metadata": {},
   "outputs": [],
   "source": [
    "def category_paths(category):\n",
    "    \"\"\"Get images under same category based on their paths\"\"\"\n",
    "    return list(filter(lambda x: category == label_from_path(x), image_paths))"
   ]
  },
  {
   "cell_type": "markdown",
   "metadata": {},
   "source": [
    "## Feature Selection\n",
    "\n",
    "Before extracting features from images, writing a few complementary functions would assist us better understand and digest observable and hidden information in the images.\n",
    "### Size\n",
    "Images under difference categories have different sizes. Some categories have smaller sized images than others."
   ]
  },
  {
   "cell_type": "code",
   "execution_count": 18,
   "metadata": {},
   "outputs": [],
   "source": [
    "def img_size(img):\n",
    "    \"\"\"Get the size of an image array in megapixels\"\"\"\n",
    "    return np.prod(img.shape[:2])/1e6"
   ]
  },
  {
   "cell_type": "markdown",
   "metadata": {},
   "source": [
    "### Orientation\n",
    "Images under certain categories tend to be in certain orientation (portrait, landscape). For instance, most images under \"airplanes\" are in landscape shapes."
   ]
  },
  {
   "cell_type": "code",
   "execution_count": 30,
   "metadata": {},
   "outputs": [],
   "source": [
    "def orientation(img):\n",
    "    \"\"\"Calculate aspect ratio height/width from (H x W x 3) RGB image array\"\"\"\n",
    "    return img.shape[0]/img.shape[1]"
   ]
  },
  {
   "cell_type": "code",
   "execution_count": 46,
   "metadata": {},
   "outputs": [
    {
     "data": {
      "image/png": "[encoded data removed]",
      "text/plain": [
       "<matplotlib.figure.Figure at 0x1c15c84cc0>"
      ]
     },
     "metadata": {},
     "output_type": "display_data"
    }
   ],
   "source": [
    "plane_ori = []\n",
    "for p in category_paths('airplanes'):\n",
    "    img = imread(p)\n",
    "    plane_ori.append(orientation(img))\n",
    "\n",
    "plt.xlabel(\"Aspect ratio\");\n",
    "plt.ylabel(\"Number of images\");\n",
    "plt.hist(plane_ar, bins=30); # add ; to avoid printing arrays"
   ]
  },
  {
   "cell_type": "markdown",
   "metadata": {},
   "source": [
    "When the height/width ratio equals to 1.0, the image is in square shape. When the value is less than 1.0, meaning the height is smaller than the width, images with such value are in landscape shapes.\n",
    "\n",
    "Here, we see almost all images have ratio smaller than 0.65 (by observation), with very few outliers. This proves \"orientation\" to be a valid and meaningful feature."
   ]
  },
  {
   "cell_type": "markdown",
   "metadata": {},
   "source": [
    "### Color Statistics\n",
    "Images under different categories usually have different color patterns, leading to different statistics for colored pixel values. The overall color pattern of an image could tell us what the image can be about. For instance, images of swan have more pixels in \"white\" whereas those of leopards have more pixels in \"yellow\" or \"brown\" and \"black\" (in greyscale), though these colors are expressed as combinations of different volumns of red/green/blue. "
   ]
  },
  {
   "cell_type": "code",
   "execution_count": 36,
   "metadata": {},
   "outputs": [],
   "source": [
    "def color_stats(img, color):\n",
    "    \"\"\"\n",
    "    Calculate the average, standard deviation and ranges of pixel values\n",
    "    in color r - red, g - green, b - blue, or in z for an image array\n",
    "    \"\"\"\n",
    "    if color.lower() == 'z' or len(img.shape) < 3:\n",
    "        img = rgb2gray(img)\n",
    "        ave = np.mean(img) # the mean value shows the tone of the image\n",
    "        std = np.std(img) # the std value shows the color contrast\n",
    "        ran = np.max(img) - np.min(img) # range tells the color range\n",
    "        return ave, std, ran\n",
    "    color_index = ['r', 'g', 'b'].index(color.lower())\n",
    "    ave = np.mean(img[:, :, color_index])\n",
    "    std = np.std(img[:, :, color_index])\n",
    "    ran = np.max(img[:, :, color_index])-np.min(img[:, :, color_index])\n",
    "    return ave, std, ran"
   ]
  },
  {
   "cell_type": "code",
   "execution_count": 37,
   "metadata": {},
   "outputs": [],
   "source": [
    "def color_ratio(img, color1, color2):\n",
    "    \"\"\"Find the ratio of mean values across two colors\"\"\"\n",
    "    ave1, _, _ = color_stats(img, color1)\n",
    "    ave2, _, _ = color_stats(img, color2)\n",
    "    return ave1/ave2"
   ]
  },
  {
   "cell_type": "code",
   "execution_count": 38,
   "metadata": {},
   "outputs": [],
   "source": [
    "def color_diff(img, color1, color2):\n",
    "    \"\"\"Calculate the difference between mean values of two colors\"\"\"\n",
    "    ave1, _, _ = color_stats(img, color1)\n",
    "    ave2, _, _ = color_stats(img, color2)\n",
    "    return ave1-ave2"
   ]
  },
  {
   "cell_type": "markdown",
   "metadata": {},
   "source": [
    "To validify the feature, let us examine the feature performance."
   ]
  },
  {
   "cell_type": "code",
   "execution_count": 39,
   "metadata": {},
   "outputs": [],
   "source": [
    "swan_r, swan_g, swan_b = [], [], []\n",
    "leopards_r, leopards_g, leopards_b = [], [], []\n",
    "for p in category_paths('swan'):\n",
    "    img = imread(p)\n",
    "    swan_r.append(color_stats(img, 'r'))\n",
    "    swan_g.append(color_stats(img, 'g'))\n",
    "    swan_b.append(color_stats(img, 'b'))\n",
    "for p in category_paths('leopards'):\n",
    "    img = imread(p)\n",
    "    leopards_r.append(color_stats(img, 'r'))\n",
    "    leopards_g.append(color_stats(img, 'g'))\n",
    "    leopards_b.append(color_stats(img, 'b'))"
   ]
  },
  {
   "cell_type": "code",
   "execution_count": 47,
   "metadata": {},
   "outputs": [
    {
     "data": {
      "image/png": "[encoded data removed]",
      "text/plain": [
       "<matplotlib.figure.Figure at 0x1057dd4e0>"
      ]
     },
     "metadata": {},
     "output_type": "display_data"
    },
    {
     "data": {
      "image/png": "[encoded data removed]",
      "text/plain": [
       "<matplotlib.figure.Figure at 0x1c15ad45f8>"
      ]
     },
     "metadata": {},
     "output_type": "display_data"
    },
    {
     "data": {
      "image/png": "[encoded data removed]",
      "text/plain": [
       "<matplotlib.figure.Figure at 0x1c15c5eba8>"
      ]
     },
     "metadata": {},
     "output_type": "display_data"
    }
   ],
   "source": [
    "# Empirical Distribution of red channel mean values\n",
    "plt.hist([list(zip(*leopards_r))[0], list(zip(*swan_r))[0]], color=['red', 'coral'], label=['leopards red ave.', 'swan red ave.']);\n",
    "plt.xlabel(\"Mean values - Red Channel\");\n",
    "plt.legend();\n",
    "plt.show();\n",
    "\n",
    "# Empirical Distribution of green channel mean values\n",
    "plt.hist([list(zip(*leopards_g))[0], list(zip(*swan_g))[0]], color=['green', 'lime'], label=['leopards green ave.', 'swan green ave.']);\n",
    "plt.xlabel(\"Mean values - Green Channel\");\n",
    "plt.legend();\n",
    "plt.show();\n",
    "\n",
    "# Empirical Distribution of blue channel mean values\n",
    "plt.hist([list(zip(*leopards_b))[0], list(zip(*swan_b))[0]], color=['blue', 'turquoise'], label=['leopards blue ave.', 'swan blue ave.']);\n",
    "plt.xlabel(\"Mean values - Blue Channel\");\n",
    "plt.legend();\n",
    "plt.show();"
   ]
  },
  {
   "cell_type": "markdown",
   "metadata": {},
   "source": [
    "### Color Position & Cross-Correlation & Saturation\n",
    "The location of and distances between minimum and maximum pixel values in certain color channel can be informative such as a group of \"black\" pixels (in greyscale) surrounded by a larger group of \"yellow\" pixels (in greyscale) can imply that the image might be a leopard. The cross-correlations between colored pixels and ratio of saturated pixels may also be found useful. \n",
    "\n",
    "However, since we are designing features by hand rather than architecture by hand, we could not verify the importance of such features. As the writer of this classifer, I make the judgement call that it should help in some way, especially in differentiating objects with close color compositions. "
   ]
  },
  {
   "cell_type": "code",
   "execution_count": 62,
   "metadata": {},
   "outputs": [],
   "source": [
    "def min_max_color_position(img, color):\n",
    "    \"\"\"\n",
    "    Find the x, y location of the maximum pixel value of the\n",
    "    given color, normalized by the shape of the image.\n",
    "    \"\"\"\n",
    "    if color.lower() == 'z' or len(img.shape) < 3:\n",
    "        img = rgb2gray(img)\n",
    "        min_y, min_x = np.unravel_index(np.argmin(img), img.shape)\n",
    "        max_y, max_x = np.unravel_index(np.argmax(img), img.shape)\n",
    "        return min_x, min_y, max_x, max_y\n",
    "    color_index = ['r', 'g', 'b'].index(color.lower())\n",
    "    min_y, min_x = np.unravel_index(np.argmin(img[:, :, color_index]), img[:, :, color_index].shape)\n",
    "    max_y, max_x = np.unravel_index(np.argmax(img[:, :, color_index]), img[:, :, color_index].shape)\n",
    "    return min_x/img.shape[1], min_y/img.shape[0], max_x/img.shape[1], max_y/img.shape[0]"
   ]
  },
  {
   "cell_type": "code",
   "execution_count": 49,
   "metadata": {},
   "outputs": [],
   "source": [
    "def min_max_distance(img, color):\n",
    "    \"\"\"Find the distance between the minimum and maximum pixel values\"\"\"\n",
    "    minx, miny, maxx, maxy = min_max_color_position(img, color)\n",
    "    return np.sqrt((maxx-minx)**2+(maxy-miny)**2)"
   ]
  },
  {
   "cell_type": "code",
   "execution_count": 50,
   "metadata": {},
   "outputs": [],
   "source": [
    "def color_xcorr(img, color1, color2):\n",
    "    \"\"\"Calculate the correlations of two colors' values\"\"\"\n",
    "    if len(img.shape) < 3:\n",
    "        return 0.\n",
    "    color_index1 = ['r', 'g', 'b'].index(color1.lower())\n",
    "    color_index2 = ['r', 'g', 'b'].index(color2.lower())\n",
    "    return np.corrcoef(np.array([img[:, :, color_index1].flatten(), img[:, :, color_index2].flatten()]))[0, 1]"
   ]
  },
  {
   "cell_type": "code",
   "execution_count": 51,
   "metadata": {},
   "outputs": [],
   "source": [
    "def saturation(img, threshold=0.01):\n",
    "    \"\"\"Calculate the fraction of black/white pixels below/above threshold\"\"\"\n",
    "    img2 = rgb2gray(img)\n",
    "    below = len(list(zip(*np.where(img2 < threshold))))/img_size(img)\n",
    "    above = len(list(zip(*np.where(img2 > (1-threshold)))))/img_size(img)\n",
    "    return below, above"
   ]
  },
  {
   "cell_type": "markdown",
   "metadata": {},
   "source": [
    "### Harris Corner Detection\n",
    "Referring to http://opencv-python-tutroals.readthedocs.io/en/latest/py_tutorials/py_feature2d/py_features_harris/py_features_harris.html, Harris Corner Detection method can help find the number of corners in an (normalized) image and differentiate images (categories of images) having fewer sharp corners."
   ]
  },
  {
   "cell_type": "code",
   "execution_count": 52,
   "metadata": {},
   "outputs": [],
   "source": [
    "def harris_corners(img):\n",
    "    \"\"\"Calculate the number of corner points using Harris corner detection\"\"\"\n",
    "    if img.shape[-1]==3:\n",
    "        img = rgb2gray(img)\n",
    "    n = len(corner_peaks(corner_harris(img)))\n",
    "    return n/img_size(img)   # normalize by image size"
   ]
  },
  {
   "cell_type": "markdown",
   "metadata": {},
   "source": [
    "Feature performance examination, using categories: swan & leopards again."
   ]
  },
  {
   "cell_type": "code",
   "execution_count": 55,
   "metadata": {},
   "outputs": [
    {
     "data": {
      "image/png": "[encoded data removed]",
      "text/plain": [
       "<matplotlib.figure.Figure at 0x1c15420a58>"
      ]
     },
     "metadata": {},
     "output_type": "display_data"
    }
   ],
   "source": [
    "swan_corners, leopards_corners = [], []\n",
    "for p in category_paths('swan'):\n",
    "    img = imread(p)\n",
    "    swan_corners.append(harris_corners(img))\n",
    "for p in category_paths('leopards'):\n",
    "    img = imread(p)\n",
    "    leopards_corners.append(harris_corners(img))\n",
    "\n",
    "# Empirical Distribution of number of harris corners in swan images and leopard images\n",
    "plt.hist([swan_corners, leopards_corners], label=['swan', 'leopards']);\n",
    "plt.xlabel(\"Number of corners\")\n",
    "plt.legend();\n",
    "plt.show();"
   ]
  },
  {
   "cell_type": "markdown",
   "metadata": {},
   "source": [
    "### Difference of Gaussian (DoG) and Determinant of Hessian (DoH) blob detector. \n",
    "Referring to http://eric-yuan.me/surf/, there are two methods used for feature detection: SIFT (Scale-invariant feature transform) and SURF (Speeded Up Robust Features). In Sift method, we use Difference of Gaussian (DoG) to build the image pyramid, and in Surf, we simply use an integer approximation to the determinant of Hessian blob detector. "
   ]
  },
  {
   "cell_type": "code",
   "execution_count": 53,
   "metadata": {},
   "outputs": [],
   "source": [
    "def doh_dog_blobs(img):\n",
    "    \"\"\"\n",
    "    Calculate the number of blobs in an image using the\n",
    "    determinant of Hessian (DoH) and difference of Gaussians (DoG)\n",
    "    \"\"\"\n",
    "    if img.shape[-1] == 3:\n",
    "        img = rgb2gray(img)\n",
    "    n_blob_doh = len(blob_doh(img))\n",
    "    n_blob_dog = len(blob_dog(img))\n",
    "    blob_diff = n_blob_doh - n_blob_dog\n",
    "    return n_blob_doh, n_blob_dog, blob_diff"
   ]
  },
  {
   "cell_type": "markdown",
   "metadata": {},
   "source": [
    "## Feature Extraction\n",
    "   \n",
    "With assistances of the above complementary functions, we can now extract 50 features from all of the images, though some of features might not be used in constructing the final classifier due to weaker relationships or repetitions. \n",
    "\n",
    "We use multiprocessing for speed ups. Code adapted from lecture 08_Parallelism."
   ]
  },
  {
   "cell_type": "code",
   "execution_count": 57,
   "metadata": {},
   "outputs": [],
   "source": [
    "def extract_features(image_path_list):\n",
    "    \"\"\"Extract pre-designed features from all given training images\"\"\"\n",
    "    feature_list = []\n",
    "    for image_path in image_path_list:\n",
    "        try:\n",
    "            img = imread(image_path)\n",
    "        except:\n",
    "            continue\n",
    "        # Feature 1 - Image array size\n",
    "        image_size = img_size(img)\n",
    "        # Feature 2 - Image orientation (portrait or landscape)\n",
    "        aspect_ratio = orientation(img)\n",
    "        # Feature 3, 4, 5 - Mean, Standard Deviation and Range of Red Channel\n",
    "        red_mean, red_std, red_range = color_stats(img, 'r')\n",
    "        # Feature 6, 7, 8 - Mean, Standard Deviation and Range of Green Channel\n",
    "        green_mean, green_std, green_range = color_stats(img, 'g')\n",
    "        # Feature 9, 10, 11 - Mean, Standard Deviation and Range of Blue Channel\n",
    "        blue_mean, blue_std, blue_range = color_stats(img, 'b')\n",
    "        # Feature 12, 13, 14 - Mean, Standard Deviation and Range of Image itself\n",
    "        image_mean, image_std, image_range = color_stats(img, 'z')\n",
    "        # Feature 15 - Ratio of mean values of Red & Green Channels\n",
    "        red_green_ratio = color_ratio(img, 'r', 'g')\n",
    "        # Feature 16 - Ratio of mean values of Green & Blue Channels\n",
    "        green_blue_ratio = color_ratio(img, 'g', 'b')\n",
    "        # Feature 17 - Ratio of mean values of Blue & Red Channels\n",
    "        blue_red_ratio = color_ratio(img, 'b', 'r')\n",
    "        # Feature 18 - Difference of mean values of Red & Green Channels\n",
    "        red_green_diff = color_diff(img, 'r', 'g')\n",
    "        # Feature 19 - Difference of mean values of Green & Blue Channels\n",
    "        green_blue_diff = color_diff(img, 'g', 'b')\n",
    "        # Feature 20 - Difference of mean values of Blue & Red Channels\n",
    "        blue_red_diff = color_diff(img, 'b', 'r')\n",
    "        # Feature 21 - Correlation of Red & Green values\n",
    "        red_green_corr = color_xcorr(img, 'r', 'g')\n",
    "        # Feature 22 - Correlation of Green & Blue values\n",
    "        green_blue_corr = color_xcorr(img, 'g', 'b')\n",
    "        # Feature 23 - Correlation of Blue & Red values\n",
    "        blue_red_corr = color_xcorr(img, 'b', 'r')\n",
    "        # Feature 24, 25 - Fraction of saturated pixels (in greyscale)\n",
    "        below, above = saturation(img)\n",
    "        # Feature 26, 27, 28, 29 - Positions of maximum and minimum values in Red Channel\n",
    "        red_min_x, red_min_y, red_max_x, red_max_y = min_max_color_position(img, 'r')\n",
    "        # Feature 30, 31, 32, 33 - Positions of maximum and minimum values in Green Channel\n",
    "        green_min_x, green_min_y, green_max_x, green_max_y = min_max_color_position(img, 'g')\n",
    "        # Feature 34, 35, 36, 37 - Positions of maximum and minimum values in Blue Channel\n",
    "        blue_min_x, blue_min_y, blue_max_x, blue_max_y = min_max_color_position(img, 'b')\n",
    "        # Feature 38, 39, 40, 41 - Positions of maximum and minimum values of the image array\n",
    "        image_min_x, image_min_y, image_max_x, image_max_y = min_max_color_position(img, 'z')\n",
    "        # Feature 42 - Distance between minimum and maximum value in Red Channel\n",
    "        red_dist = min_max_distance(img, 'r')\n",
    "        # Feature 43 - Distance between minimum and maximum value in Green Channel\n",
    "        green_dist = min_max_distance(img, 'g')\n",
    "        # Feature 44 - Distance between minimum and maximum value in Blue Channel\n",
    "        blue_dist = min_max_distance(img, 'b')\n",
    "        # Feature 45 - Distance between minimum and maximum value in Red Channel\n",
    "        image_dist = min_max_distance(img, 'z')\n",
    "        # Feature 46 - Number of harris corners\n",
    "        n_corners = harris_corners(img)\n",
    "        # Feature 47, 48, 49 - Number of blobs using DoH, DoG and their differences\n",
    "        n_blob_doh, n_blob_dog, blob_diff = doh_dog_blobs(img)\n",
    "        # Feature 50 - Number of blobs per corner\n",
    "        if n_corners == 0:\n",
    "            blob_per_corner = -1.\n",
    "        else:\n",
    "            blob_per_corner = np.mean(np.array([n_blob_doh, n_blob_dog]))/n_corners\n",
    "        # Select the most relevant 36 features\n",
    "        feature = [image_path,\n",
    "                   image_size, # Feature 1\n",
    "                   aspect_ratio, # Feature 2\n",
    "                   red_mean, red_std, # Feature 3, 4\n",
    "                   green_mean, green_std, # Feature 6, 7\n",
    "                   blue_mean, blue_std, # Feature 9, 10\n",
    "                   image_mean, image_std, # Feature 12, 13\n",
    "                   red_green_ratio, green_blue_ratio, blue_red_ratio, # Feature 15, 16, 17\n",
    "                   red_green_diff, green_blue_diff, blue_red_diff, # Feature 18, 19, 20\n",
    "                   red_green_corr, green_blue_corr, blue_red_corr, # Feature 21, 22, 23\n",
    "                   below, above, # Feature 24, 25\n",
    "                   red_min_x, red_max_x, # Feature 26, 28\n",
    "                   green_min_x, green_max_x, # Feature 30, 32\n",
    "                   blue_min_x, blue_max_x, # Feature 34, 36\n",
    "                   image_min_x, image_max_x, # Feature 38, 40\n",
    "                   red_dist, green_dist, blue_dist, image_dist, # Feature 42, 43, 44, 45\n",
    "                   n_corners, # Feature 46\n",
    "                   n_blob_doh, n_blob_dog, blob_diff, # Feature 47, 48, 49\n",
    "                   blob_per_corner # Feature 50\n",
    "                  ]\n",
    "        feature_list.append(feature)\n",
    "    return feature_list"
   ]
  },
  {
   "cell_type": "code",
   "execution_count": 58,
   "metadata": {},
   "outputs": [],
   "source": [
    "def split_seq(seq, size):\n",
    "    \"\"\"Complementary function for multiprocessing; to equally split tasks/seqs\"\"\"\n",
    "    new_seq = []\n",
    "    splitsize = 1.0/size*len(seq)\n",
    "    for i in range(size):\n",
    "        new_seq.append(seq[int(round(i*splitsize)):int(round((i+1)*splitsize))])\n",
    "    return new_seq"
   ]
  },
  {
   "cell_type": "code",
   "execution_count": 59,
   "metadata": {},
   "outputs": [],
   "source": [
    "def extract_parallel(image_paths, write=True):\n",
    "    \"\"\"\n",
    "    Use multiprocessing for speed ups.\n",
    "    Adapt from examples given in lecture 08_Parallelism.\n",
    "    \"\"\"\n",
    "    numprocessors = cpu_count()\n",
    "    split_image_paths = split_seq(image_paths, numprocessors)\n",
    "    p = Pool(numprocessors)\n",
    "    result = p.map_async(extract_features, split_image_paths)\n",
    "    poolresult = result.get()\n",
    "    combined_result = []\n",
    "    for single_proc_result in poolresult:\n",
    "        for single_image_result in single_proc_result:\n",
    "            combined_result.append(single_image_result)\n",
    "    if write:\n",
    "        pickle.dump(combined_result, open('features.pkl', 'wb'))\n",
    "    return combined_result"
   ]
  },
  {
   "cell_type": "markdown",
   "metadata": {},
   "source": [
    "### Now we extract the features from images.\n",
    "Since we have chose to use multiprocessing, and I do not understand how does 'tqdm', the interaction process checkbar extension, work with multiprocessing, I did not write any print comment to show which part/stage are the workers working on (like webscrapping data from airport XXX in HW5). It should still yield a general sense on the expected total length of running time.\n",
    "\n",
    "#### <font color=red>NOTE: Running the following cell would take a while!<font>"
   ]
  },
  {
   "cell_type": "code",
   "execution_count": 63,
   "metadata": {},
   "outputs": [],
   "source": [
    "extract_parallel(image_paths=image_paths);"
   ]
  },
  {
   "cell_type": "markdown",
   "metadata": {},
   "source": [
    "## Classifier Construction & Training\n",
    "\n",
    "Since we have 50 categories of images and each category has different number of images, we want to make sure that we do not overtrain the classifier on categories with more images, nor do we want to train it insufficiently. \n",
    "\n",
    "The smallest categories - galaxy & skunk - have 54 images. In addition, most categories have ~60 to ~80 images. If we split the dataset by 90/10, 45 would be a good amount. After randomly selecting 45 images from each category for training, remained images would be used for validation test. "
   ]
  },
  {
   "cell_type": "code",
   "execution_count": 64,
   "metadata": {},
   "outputs": [],
   "source": [
    "def train_test_split(features, n=45):\n",
    "    counts = {}\n",
    "    i = 0\n",
    "    train_X, train_y, test_X, test_y = [], [], [], []\n",
    "    rand_ind = np.arange(0, len(features))\n",
    "    np.random.shuffle(rand_ind)\n",
    "    for i in rand_ind:\n",
    "        f = features[i][1:]\n",
    "        l = label_from_path(features[i][0])\n",
    "        try:\n",
    "            counts[l] += 0\n",
    "        except KeyError:\n",
    "            counts[l] = 0\n",
    "        if counts[l] < n:\n",
    "            train_X.append(f)\n",
    "            train_y.append(l)\n",
    "            counts[l] += 1\n",
    "        else:\n",
    "            test_X.append(f)\n",
    "            test_y.append(l)\n",
    "            counts[l] += 1\n",
    "    return np.array(train_X), np.array(train_y), np.array(test_X), np.array(test_y), counts"
   ]
  },
  {
   "cell_type": "code",
   "execution_count": 65,
   "metadata": {},
   "outputs": [],
   "source": [
    "from sklearn.ensemble import RandomForestClassifier"
   ]
  },
  {
   "cell_type": "code",
   "execution_count": 66,
   "metadata": {},
   "outputs": [],
   "source": [
    "def random_forest(train_X, train_y):\n",
    "    \"\"\"Train a random forest classifier.\"\"\"\n",
    "    clf = RandomForestClassifier(n_estimators=1000, verbose=1, n_jobs=-1)\n",
    "    clf.fit(train_X, train_y)\n",
    "    return clf"
   ]
  },
  {
   "cell_type": "code",
   "execution_count": 67,
   "metadata": {},
   "outputs": [
    {
     "name": "stderr",
     "output_type": "stream",
     "text": [
      "[Parallel(n_jobs=-1)]: Done  34 tasks      | elapsed:    0.2s\n",
      "[Parallel(n_jobs=-1)]: Done 184 tasks      | elapsed:    0.7s\n",
      "[Parallel(n_jobs=-1)]: Done 434 tasks      | elapsed:    1.7s\n",
      "[Parallel(n_jobs=-1)]: Done 784 tasks      | elapsed:    3.2s\n",
      "[Parallel(n_jobs=-1)]: Done 1000 out of 1000 | elapsed:    4.1s finished\n"
     ]
    }
   ],
   "source": [
    "features = pickle.load(open('features.pkl', 'rb'))\n",
    "n = 45\n",
    "train_X, train_y, test_X, test_y, counts = train_test_split(features, n=n)\n",
    "rf = random_forest(train_X, train_y)\n",
    "pickle.dump(rf, open('random_forest.pkl', 'wb'))"
   ]
  },
  {
   "cell_type": "markdown",
   "metadata": {},
   "source": [
    "## Classifier Evaluation\n",
    "Below, we would evalute the performance and accuracy of the previously constructed Random Forest Classifier, by computing its accuracy and confusion matrix, creating a heat map for accuracies for each category, finding out the importancies of all 36 features, and comparing our classifier with random guessing."
   ]
  },
  {
   "cell_type": "code",
   "execution_count": 69,
   "metadata": {},
   "outputs": [],
   "source": [
    "rf_classifier = pickle.load(open('random_forest.pkl', 'rb'))"
   ]
  },
  {
   "cell_type": "code",
   "execution_count": null,
   "metadata": {},
   "outputs": [],
   "source": []
  },
  {
   "cell_type": "code",
   "execution_count": null,
   "metadata": {},
   "outputs": [],
   "source": []
  }
 ],
 "metadata": {
  "kernelspec": {
   "display_name": "Python 3",
   "language": "python",
   "name": "python3"
  },
  "language_info": {
   "codemirror_mode": {
    "name": "ipython",
    "version": 3
   },
   "file_extension": ".py",
   "mimetype": "text/x-python",
   "name": "python",
   "nbconvert_exporter": "python",
   "pygments_lexer": "ipython3",
   "version": "3.6.2"
  }
 },
 "nbformat": 4,
 "nbformat_minor": 2
}
