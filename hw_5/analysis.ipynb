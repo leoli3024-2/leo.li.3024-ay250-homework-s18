{
 "cells": [
  {
   "cell_type": "markdown",
   "metadata": {},
   "source": [
    "# HW5: Database - Weather Prediction\n",
    "\n",
    "\n",
    "In this assignment, we will create a database to analyze historical weather data and discover the relationships between major cities.\n",
    "\n",
    "**This file would complete the last two tasks as to analyze the data we have obtained before. For quicker references, the correlation values would be calculated and saved as another table in the same database.**\n",
    "\n",
    "1. Refer to database_construction.db\n",
    "2. Refer to database_construction.db\n",
    "3. Refer to database_construction.db\n",
    "4. For each pair of cities/airports, determine how the daily change of temperature high and precipitation from one city predicts the daily change of the other city 1, 3, and 7 days in advance.\n",
    "5. Plot the correlation strengths for the 10 top pairs for all three dates for temperature and precipitation (separately) as a function of distance. Also, make a plot as a function of longitude. What trends do you see?"
   ]
  },
  {
   "cell_type": "code",
   "execution_count": 1,
   "metadata": {},
   "outputs": [],
   "source": [
    "import numpy as np\n",
    "import pandas as pd\n",
    "import matplotlib.pyplot as plt\n",
    "from sqlalchemy import *\n",
    "from sqlalchemy.sql import select\n",
    "import seaborn as sns\n",
    "from itertools import permutations\n",
    "from tqdm import tqdm\n",
    "sns.set_style('white')\n",
    "sns.set_context('poster')\n",
    "sns.set_color_codes()\n",
    "%matplotlib inline"
   ]
  },
  {
   "cell_type": "markdown",
   "metadata": {},
   "source": [
    "**For each pair of cities/airports, determine how the daily change of temperature high and precipitation from one city predicts the daily change of the other city 1, 3, and 7 days in advance.**\n",
    "\n",
    "Essentially, we are about to find the correlations between weather data of cities. First load the database tables that were populated before in top_50_airports.db, then calculate correlations, save the correlation values in another table and write into the same database."
   ]
  },
  {
   "cell_type": "code",
   "execution_count": 2,
   "metadata": {},
   "outputs": [],
   "source": [
    "engine = create_engine('sqlite:///top_50_airports.db')\n",
    "connection = engine.connect()\n",
    "meta = MetaData()\n",
    "weather = Table('weather', meta, autoload=True, autoload_with=engine)\n",
    "airports = Table('top_50_airports', meta, autoload=True, autoload_with=engine)"
   ]
  },
  {
   "cell_type": "code",
   "execution_count": 3,
   "metadata": {
    "collapsed": true
   },
   "outputs": [],
   "source": [
    "def correlate_high_temp(icao1, icao2, dt):\n",
    "    \"\"\"\n",
    "    Calculates the correlation coefficient of the temperature high difference\n",
    "    between airports icao1 & icao2 with dt days delayed in icao2 (or dt days in advance in icao1).\n",
    "    \"\"\"\n",
    "    sel = select([weather.c.max_temp, weather.c.date])\n",
    "    loc1 = sel.where(weather.c.icao.like(icao1))\n",
    "    loc2 = sel.where(weather.c.icao.like(icao2))\n",
    "    th1 = np.array([th[0] for th in connection.execute(loc1)])\n",
    "    th2 = np.array([th[0] for th in connection.execute(loc2)])\n",
    "    # Replace nan with zero and inf with large finite numbers\n",
    "    # th1 = np.nan_to_num(th1)\n",
    "    # th2 = np.nan_to_num(th2)\n",
    "    data = list(zip(*[th1, th2]))\n",
    "    df = pd.DataFrame(data=data, \n",
    "                      columns=[icao1, icao2],\n",
    "                      dtype=(float, float))\n",
    "    df = df.fillna(0.01)\n",
    "    cor_coef = np.corrcoef(np.array(df[icao1].diff(1).bfill()), np.array(df[icao2].diff(1).shift(dt).bfill()))[0,1]\n",
    "    \n",
    "    \"\"\"\n",
    "    numpy.float64 object does not support item assignment\n",
    "    I could not fix this missing value issue. Fillna does not work in my method.\n",
    "    \"\"\" \n",
    "    # where_are_NaNs = np.isnan(cor_coef)\n",
    "    # cor_coef[where_are_NaNs] = 0\n",
    "    # cor_coef[np.where(np.isnan(cor_coef) == np.nan)] = 0\n",
    "    return cor_coef"
   ]
  },
  {
   "cell_type": "code",
   "execution_count": 4,
   "metadata": {},
   "outputs": [],
   "source": [
    "def correlate_precip(icao1, icao2, dt):\n",
    "    \"\"\"\n",
    "    Calculates the correlation coefficient of the precipitation difference\n",
    "    between airports icao1 & icao2 with dt days delayed in icao2 (or dt days in advance in icao1).\n",
    "    \"\"\"\n",
    "    sel = select([weather.c.precip, weather.c.date])\n",
    "    loc1 = sel.where(weather.c.icao.like(icao1))\n",
    "    loc2 = sel.where(weather.c.icao.like(icao2))\n",
    "    p1 = np.array([p[0] for p in connection.execute(loc1)])\n",
    "    p2 = np.array([p[0] for p in connection.execute(loc2)])\n",
    "    # Replace nan with zero and inf with large finite numbers\n",
    "    p1 = np.nan_to_num(p1)\n",
    "    p2 = np.nan_to_num(p2)\n",
    "    data = list(zip(*[p1, p2]))    \n",
    "    df = pd.DataFrame(data=data,\n",
    "                      columns=[icao1, icao2],\n",
    "                      dtype=(float, float))\n",
    "    df = df.fillna(0.01)\n",
    "    cor_coef = np.corrcoef(np.array(df[icao1].diff(1).bfill()), np.array(df[icao2].diff(1).shift(dt).bfill()))[0,1]\n",
    "    \"\"\"\n",
    "    numpy.float64 object does not support item assignment\n",
    "    I could not fix this missing value issue. Fillna does not work in my method.\n",
    "    \"\"\" \n",
    "    # where_are_NaNs = np.isnan(cor_coef)\n",
    "    # cor_coef[where_are_NaNs] = 0\n",
    "    # cor_coef[np.where(np.isnan(cor_coef) == np.nan)] = 0\n",
    "    return cor_coef"
   ]
  },
  {
   "cell_type": "markdown",
   "metadata": {},
   "source": [
    "Create a new table in the database to hold all the correlation data."
   ]
  },
  {
   "cell_type": "code",
   "execution_count": 5,
   "metadata": {},
   "outputs": [],
   "source": [
    "meta = MetaData()\n",
    "corr_table = Table('correlations', meta,\n",
    "                   Column('icao1', String),\n",
    "                   Column('icao2', String),\n",
    "                   Column('high_temp_1', Float),\n",
    "                   Column('high_temp_3', Float),\n",
    "                   Column('high_temp_7', Float),\n",
    "                   Column('precip_1', Float),\n",
    "                   Column('precip_3', Float),\n",
    "                   Column('precip_7', Float), extend_existing=True)"
   ]
  },
  {
   "cell_type": "markdown",
   "metadata": {},
   "source": [
    "Now populate the database for all pairs of airports in the correlation table"
   ]
  },
  {
   "cell_type": "code",
   "execution_count": 6,
   "metadata": {},
   "outputs": [],
   "source": [
    "airport_list = [r[0] for r in connection.execute(select([airports.c.ICAO]))]"
   ]
  },
  {
   "cell_type": "markdown",
   "metadata": {},
   "source": [
    "Now we fill this new table iterating through all pairs of airports\n"
   ]
  },
  {
   "cell_type": "code",
   "execution_count": 7,
   "metadata": {},
   "outputs": [
    {
     "name": "stderr",
     "output_type": "stream",
     "text": [
      "  0%|          | 0/2450 [00:00<?, ?it/s]/Users/leoli/anaconda3/lib/python3.6/site-packages/numpy/lib/function_base.py:1110: RuntimeWarning: Mean of empty slice.\n",
      "  avg = a.mean(axis)\n",
      "/Users/leoli/anaconda3/lib/python3.6/site-packages/numpy/core/_methods.py:73: RuntimeWarning: invalid value encountered in true_divide\n",
      "  ret, rcount, out=ret, casting='unsafe', subok=False)\n",
      "/Users/leoli/anaconda3/lib/python3.6/site-packages/numpy/lib/function_base.py:2995: RuntimeWarning: Degrees of freedom <= 0 for slice\n",
      "  c = cov(x, y, rowvar)\n",
      "/Users/leoli/anaconda3/lib/python3.6/site-packages/numpy/lib/function_base.py:2929: RuntimeWarning: divide by zero encountered in double_scalars\n",
      "  c *= 1. / np.float64(fact)\n",
      "/Users/leoli/anaconda3/lib/python3.6/site-packages/numpy/lib/function_base.py:2929: RuntimeWarning: invalid value encountered in multiply\n",
      "  c *= 1. / np.float64(fact)\n",
      "100%|██████████| 2450/2450 [00:27<00:00, 89.22it/s]\n"
     ]
    }
   ],
   "source": [
    "pairs = list(permutations(airport_list, 2))\n",
    "for p in tqdm(pairs):\n",
    "    th1 = correlate_high_temp(p[0], p[1], 1)\n",
    "    th3 = correlate_high_temp(p[0], p[1], 3)\n",
    "    th7 = correlate_high_temp(p[0], p[1], 7)\n",
    "    p1 = correlate_precip(p[0], p[1], 1)\n",
    "    p3 = correlate_precip(p[0], p[1], 3)\n",
    "    p7 = correlate_precip(p[0], p[1], 7)\n",
    "    corrs = corr_table.insert().values(icao1=p[0], \n",
    "                                       icao2=p[1],\n",
    "                                       high_temp_1=th1,\n",
    "                                       high_temp_3=th3,\n",
    "                                       high_temp_7=th7,\n",
    "                                       precip_1=p1,\n",
    "                                       precip_3=p3,\n",
    "                                       precip_7=p7)\n",
    "    connection.execute(corrs)"
   ]
  },
  {
   "cell_type": "markdown",
   "metadata": {},
   "source": [
    "The above warning issue in red block influences all the plotting below, as all correlation values are calculated/resulted as 'NONE' values. Below are the functions needed to generate the plots, but the actually plots are all empty as there are no correlations."
   ]
  },
  {
   "cell_type": "code",
   "execution_count": 8,
   "metadata": {
    "collapsed": true
   },
   "outputs": [],
   "source": [
    "def get_lat_long(icao):\n",
    "    \"\"\"\n",
    "    Get the latitude and longitude of an airport\n",
    "    \"\"\"\n",
    "    sel = select([airports.c.latitude_deg, airports.c.longitude_deg])\n",
    "    q = sel.where(airports.c.ICAO.like(icao))\n",
    "    q = q.order_by(func.abs(airports.c.longitude_deg))\n",
    "    results = connection.execute(q).fetchall()\n",
    "    return results[0]"
   ]
  },
  {
   "cell_type": "code",
   "execution_count": 9,
   "metadata": {
    "collapsed": true
   },
   "outputs": [],
   "source": [
    "def get_dlat_dlong(icao1, icao2):\n",
    "    \"\"\"\n",
    "    Get the differences in latitude and longitude between two airports\n",
    "    \"\"\"\n",
    "    lat1, long1 = get_lat_long(icao1)\n",
    "    lat2, long2 = get_lat_long(icao2)\n",
    "    return lat1-lat2, long1-long2"
   ]
  },
  {
   "cell_type": "code",
   "execution_count": 10,
   "metadata": {},
   "outputs": [
    {
     "data": {
      "text/plain": [
       "(0.052700038115197856, -0.38980102187500165)"
      ]
     },
     "execution_count": 10,
     "metadata": {},
     "output_type": "execute_result"
    }
   ],
   "source": [
    "# This function is correct and works\n",
    "get_dlat_dlong('KEWR', 'KJFK')"
   ]
  },
  {
   "cell_type": "code",
   "execution_count": 11,
   "metadata": {
    "collapsed": true
   },
   "outputs": [],
   "source": [
    "def get_distance(icao1, icao2):\n",
    "    \"\"\"\n",
    "    Use the Haversine formula to calculate the distance between two airports\n",
    "    \"\"\"\n",
    "    lat1, long1 = np.deg2rad(get_lat_long(icao1))\n",
    "    lat2, long2 = np.deg2rad(get_lat_long(icao2))\n",
    "    # Use Haversine formula to obtain distances\n",
    "    a = np.sin((lat2-lat1)/2.)**2 + np.cos(lat1) * np.cos(lat2) * np.sin((long2-long1)/2.)**2\n",
    "    c = 2 * np.arctan2(np.sqrt(a), np.sqrt(1.-a))\n",
    "    R = 6371 # Earth's radius in km\n",
    "    d = R * c\n",
    "    return d"
   ]
  },
  {
   "cell_type": "code",
   "execution_count": 12,
   "metadata": {},
   "outputs": [
    {
     "data": {
      "text/plain": [
       "2963.9631560481826"
      ]
     },
     "execution_count": 12,
     "metadata": {},
     "output_type": "execute_result"
    }
   ],
   "source": [
    "# This function is correct and works\n",
    "get_distance('KORD', 'KSFO')"
   ]
  },
  {
   "cell_type": "code",
   "execution_count": 13,
   "metadata": {
    "collapsed": true
   },
   "outputs": [],
   "source": [
    "def get_top(col_name, n=0):\n",
    "    \"\"\"\n",
    "    Get the airport ICAO codes and correlation coefficients of col_name (one of high_temp_x or precip_x for \n",
    "    x in 1, 3, 7) for the n pairs with the largest correlations or anti-correlations. Results are sorted by\n",
    "    the absolute value of the correlation coefficient in ascending order.\n",
    "    \"\"\"\n",
    "    sel = select([corr_table.c.icao1, corr_table.c.icao2, corr_table.c.get(col_name)])\n",
    "    q = sel.order_by(func.abs(corr_table.c.get(col_name)))\n",
    "    results = connection.execute(q).fetchall()\n",
    "    return results[-n:]"
   ]
  },
  {
   "cell_type": "code",
   "execution_count": 14,
   "metadata": {},
   "outputs": [
    {
     "data": {
      "text/plain": [
       "[('KIND', 'KHOU', None),\n",
       " ('KIND', 'KSNA', None),\n",
       " ('KIND', 'KAUS', None),\n",
       " ('KIND', 'KSJC', None),\n",
       " ('KIND', 'KMSY', None),\n",
       " ('KIND', 'KPIT', None),\n",
       " ('KIND', 'KSAT', None),\n",
       " ('KIND', 'KCVG', None),\n",
       " ('KIND', 'KMKE', None),\n",
       " ('KIND', 'KDAL', None)]"
      ]
     },
     "execution_count": 14,
     "metadata": {},
     "output_type": "execute_result"
    }
   ],
   "source": [
    "get_top('high_temp_1', n = 10)"
   ]
  },
  {
   "cell_type": "markdown",
   "metadata": {},
   "source": [
    "As seen here, the correlations are all 'NONE'. I could not fix this issue; consequently, I couldn't generate any plots, since correlations are missing so plots are all empty. Below is a function that ideally should work to generate 6 plots (1, 3 & 7 days correlations as a function of distance & longitude difference) for the top 10 pairs of airports"
   ]
  },
  {
   "cell_type": "code",
   "execution_count": 15,
   "metadata": {
    "collapsed": true
   },
   "outputs": [],
   "source": [
    "def plot(col_name, n=0, title='', save=None):\n",
    "    \"\"\"\n",
    "    Plots of correlation coefficients for col_name as functions of distance and longitude difference.\n",
    "    \"\"\"\n",
    "    icao1, icao2, corr = zip(*get_top(col_name, n))\n",
    "    pairs = list(zip(icao1, icao2))\n",
    "    dist = [get_distance(*p) for p in pairs]\n",
    "    dlat, dlong = list(zip(*[get_dlat_dlong(*p) for p in pairs]))\n",
    "    plt.figure(figsize=(12, 15))\n",
    "    plt.subplot(211)\n",
    "    plt.scatter(dist, corr)\n",
    "    plt.title(title)\n",
    "    plt.xlim(0, 10000)\n",
    "    plt.xlabel('Distance (km)')\n",
    "    plt.ylabel('Correlation coefficent')\n",
    "    plt.subplot(212)\n",
    "    plt.scatter(dlong, corr)\n",
    "    plt.xlabel('$\\Delta$ longitude (degrees)')\n",
    "    plt.ylabel('Correlation coefficent')\n",
    "\n",
    "    if save is not None:\n",
    "        plt.savefig(save, bbox_inches='tight')"
   ]
  },
  {
   "cell_type": "code",
   "execution_count": 16,
   "metadata": {},
   "outputs": [
    {
     "data": {
      "image/png": "[encoded data removed]",
      "text/plain": [
       "<matplotlib.figure.Figure at 0x10c7db2b0>"
      ]
     },
     "metadata": {},
     "output_type": "display_data"
    }
   ],
   "source": [
    "plot(col_name = 'high_temp_1', title='Change in Temperature, $\\Delta$t=1 day', n=10)"
   ]
  },
  {
   "cell_type": "code",
   "execution_count": null,
   "metadata": {
    "collapsed": true
   },
   "outputs": [],
   "source": [
    "plot(col_name = 'high_temp_3', title='Change in Temperature, $\\Delta$t=3 day', n=10)"
   ]
  },
  {
   "cell_type": "code",
   "execution_count": null,
   "metadata": {
    "collapsed": true
   },
   "outputs": [],
   "source": [
    "plot(col_name = 'high_temp_7', title='Change in Temperature, $\\Delta$t=7 day', n=10)"
   ]
  },
  {
   "cell_type": "code",
   "execution_count": null,
   "metadata": {
    "collapsed": true
   },
   "outputs": [],
   "source": [
    "plot(col_name = 'precip_1', title='Change in Precipitation, $\\Delta$t=1 day', n=10)"
   ]
  },
  {
   "cell_type": "code",
   "execution_count": null,
   "metadata": {
    "collapsed": true
   },
   "outputs": [],
   "source": [
    "plot(col_name = 'precip_3', title='Change in Precipitation, $\\Delta$t=3 day', n=10)"
   ]
  },
  {
   "cell_type": "code",
   "execution_count": null,
   "metadata": {
    "collapsed": true
   },
   "outputs": [],
   "source": [
    "plot(col_name = 'precip_7', title='Change in Precipitation, $\\Delta$t=7 day', n=10)"
   ]
  }
 ],
 "metadata": {
  "kernelspec": {
   "display_name": "Python 3",
   "language": "python",
   "name": "python3"
  },
  "language_info": {
   "codemirror_mode": {
    "name": "ipython",
    "version": 3
   },
   "file_extension": ".py",
   "mimetype": "text/x-python",
   "name": "python",
   "nbconvert_exporter": "python",
   "pygments_lexer": "ipython3",
   "version": "3.6.2"
  }
 },
 "nbformat": 4,
 "nbformat_minor": 1
}
