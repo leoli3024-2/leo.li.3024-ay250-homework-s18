{
 "cells": [
  {
   "cell_type": "markdown",
   "metadata": {},
   "source": [
    "# Homework 4: Parallelism\n",
    "\n",
    "### Due Monday March 5, 2018 @ 2pm\n",
    "\n",
    "For this homework you will run the same algorithm under different parallelization methods and evaluate the speedups (execution time). You will compare simple serial (no parallelization), multiprocessing (or concurrent.futures), and ipyparallel module (or dask, if you like).\n",
    "\n",
    "\n",
    "The algorithm uses a Monte Carlo dart-throwing simulation to calculate a numerical approximation to Pi. A simple Python version of this program is on the next slide to show how it can be implemented without parallelization. It is deliberately not copy- pastable so that you have to read it and (hopefully) understand it.\n",
    "\n",
    "\n",
    "- Write a program that runs this algorithm under the three different parallelization methods. \n",
    "- Run several trials with different numbers of darts thrown (up to execution times ~100 seconds).\n",
    "- Keep track of the execution times as a function of number of darts and method of parallelization. \n",
    "- Keep track of the simulation rate (darts thrown per second). \n",
    "- Plot execution time and simulation rate as a function of number of darts for all three methods. (If you calculated standard deviations, use errorbar plots.)\n",
    "- In your README file, explain the behavior you measure and illustrate in the plot.\n",
    "- If you want to be awesome (!), you can run each simulation multiple times for each number of darts and calculate the standard deviation for the execution time and the simulation rate, but this is not required.\n"
   ]
  },
  {
   "cell_type": "markdown",
   "metadata": {},
   "source": [
    "We would compare the performances and execution times of following three methods of the same algorithm -  approximating the $\\pi$ value by running a Monte Carlo dart-throwing simulation.\n",
    "- Serial\n",
    "- multiprocessing\n",
    "- ipyparallel"
   ]
  },
  {
   "cell_type": "code",
   "execution_count": 1,
   "metadata": {
    "collapsed": true
   },
   "outputs": [],
   "source": [
    "# Import necessary libraries for running all three methods\n",
    "import multiprocessing as mp\n",
    "from multiprocessing import Pool \n",
    "import ipyparallel as ipp\n",
    "from ipyparallel import Client\n",
    "from random import uniform\n",
    "from time import time"
   ]
  },
  {
   "cell_type": "markdown",
   "metadata": {},
   "source": [
    "First and foremost, before running any algorithm, we need to define a function \"dart_throw\" that throws a number of darts (n) and returns the number of darts (m) that land inside the inscribed circle."
   ]
  },
  {
   "cell_type": "code",
   "execution_count": 2,
   "metadata": {
    "collapsed": true
   },
   "outputs": [],
   "source": [
    "# Throw n darts in [0, 1] * [0, 1] square\n",
    "# Return m darts inside the unit circle\n",
    "def dart_throw(n):\n",
    "    m = 0\n",
    "    for i in range(int(n)):\n",
    "        x, y = uniform(0, 1), uniform(0, 1)\n",
    "        if x**2 + y**2 < 1:\n",
    "            m += 1\n",
    "    return m"
   ]
  },
  {
   "cell_type": "markdown",
   "metadata": {},
   "source": [
    "## Serial Approach\n",
    "\n",
    "To run the algorithm in serial, we define a function that takes a given input number of darts $n$ to throw and returns the final approximation of $\\pi$ value."
   ]
  },
  {
   "cell_type": "code",
   "execution_count": 3,
   "metadata": {
    "collapsed": true
   },
   "outputs": [],
   "source": [
    "# Throw n darts in [0, 1] * [0, 1] square\n",
    "# Returns approximated pi-value in monte-carlo simulation and execution time\n",
    "def pi_serial(n):\n",
    "    \"\"\"\n",
    "    Naive serial method of monte carlo pi using dart_throw function.\n",
    "    \"\"\"\n",
    "    t1 = time()\n",
    "    m = dart_throw(n)\n",
    "    pi_approx = 4. * m / n\n",
    "    \n",
    "    t2 = time()\n",
    "    t_loop = t2 - t1\n",
    "    \n",
    "    return pi_approx, t_loop"
   ]
  },
  {
   "cell_type": "code",
   "execution_count": 4,
   "metadata": {},
   "outputs": [
    {
     "name": "stdout",
     "output_type": "stream",
     "text": [
      "Number of cpu cores on this machine is : 8\n",
      "CPU times: user 703 ms, sys: 5.95 ms, total: 709 ms\n",
      "Wall time: 706 ms\n"
     ]
    },
    {
     "data": {
      "text/plain": [
       "(3.145852, 0.7057299613952637)"
      ]
     },
     "execution_count": 4,
     "metadata": {},
     "output_type": "execute_result"
    }
   ],
   "source": [
    "# Test with 1,000,000 darts\n",
    "import os\n",
    "print(\"Number of cpu cores on this machine is : \"+ str(os.cpu_count()))\n",
    "%time pi_serial(1000000)"
   ]
  },
  {
   "cell_type": "markdown",
   "metadata": {},
   "source": [
    "## Multiprocessing Approach\n",
    "\n",
    "To run the algorithm using python multiprocessing, we define a function that takes a given input number of darts $n$ to throw and number of workers/cores to work/assign, then returns the final approximation of $\\pi$ value and execution time."
   ]
  },
  {
   "cell_type": "code",
   "execution_count": 5,
   "metadata": {
    "collapsed": true
   },
   "outputs": [],
   "source": [
    "# Throw n darts in [0, 1] * [0, 1] square\n",
    "# Can manually select how many workers/cores to work with, by setting n_proc = x\n",
    "# Returns approximated pi-value in monte-carlo simulation and execution time\n",
    "def pi_mp(n, n_proc = None, t_break = True):\n",
    "    \"\"\"\n",
    "    Calculate pi using python multiprocessing\n",
    "    \n",
    "    Note: \n",
    "    ----------\n",
    "    n_proc: Number of workers/cores to work with, default = os.cpu_count()\n",
    "    t_break: Breakdown of the total time spent\n",
    "    t_loop: Time spent in monte carlo simulation in seconds.\n",
    "            Time to initialize and shut down worker pool have been excluded. \n",
    "    \"\"\"\n",
    "    # default number processes = num of CPUs\n",
    "    if not n_proc:\n",
    "        import os\n",
    "        n_proc = os.cpu_count()    \n",
    "    \n",
    "    # t1 - starting time\n",
    "    t1 = time()\n",
    "    \n",
    "    # average workload of each worker/core (number of darts that each worker/core processes)\n",
    "    avg_load = n // n_proc\n",
    "    extra_load = n % avg_load\n",
    "    \n",
    "    # initialize workload for workers/cores\n",
    "    min_load = [avg_load] * n_proc\n",
    "    min_load[n_proc - 1] += extra_load\n",
    "    \n",
    "    # start a pool of workers\n",
    "    pool = Pool(processes=n_proc)\n",
    "\n",
    "    # t2 - time for workers/cores to start processing\n",
    "    t2 = time()\n",
    "    \n",
    "    # assign workloads to each worker\n",
    "    results = pool.imap_unordered(dart_throw, min_load)\n",
    "    # combine results from all workers\n",
    "    n_in_cirlce = sum(results)\n",
    "    \n",
    "    # t3 - time when all processings finished\n",
    "    t3 = time()\n",
    "    \n",
    "    # shut down pool, remove pointer to pool object, collect garbage, and release memory\n",
    "    pool.terminate()\n",
    "    del pool\n",
    "    \n",
    "    # Calculate the approximated pi-value\n",
    "    pi_approx = 4 *  n_in_cirlce / n    \n",
    "\n",
    "    # t4 - all work done\n",
    "    t4 = time()\n",
    "    \n",
    "    t_setup = t2-t1\n",
    "    t_loop = t3-t2\n",
    "    t_shutdown = t4-t3\n",
    "    \n",
    "    if t_break:\n",
    "        print(\"set up {0} workers used {1:.3g}s\".format(n_proc, t_setup))\n",
    "        print(\"throwing {0} darts used {1:.3g}s\".format(n, t_loop))\n",
    "        print(\"terminate {0} workers used {1:.3g}s\".format(n_proc, t_shutdown))\n",
    "    return pi_approx, t_loop"
   ]
  },
  {
   "cell_type": "code",
   "execution_count": 6,
   "metadata": {},
   "outputs": [
    {
     "name": "stdout",
     "output_type": "stream",
     "text": [
      "Number of cpu cores on this machine is : 8\n",
      "set up 8 workers used 0.0401s\n",
      "throwing 1000000 darts used 0.185s\n",
      "terminate 8 workers used 0.03s\n",
      "CPU times: user 15.7 ms, sys: 39.7 ms, total: 55.4 ms\n",
      "Wall time: 256 ms\n"
     ]
    },
    {
     "data": {
      "text/plain": [
       "(3.139556, 0.18474984169006348)"
      ]
     },
     "execution_count": 6,
     "metadata": {},
     "output_type": "execute_result"
    }
   ],
   "source": [
    "# Test with 1,000,000 darts\n",
    "import os\n",
    "print(\"Number of cpu cores on this machine is : \"+ str(os.cpu_count()))\n",
    "%time pi_mp(1000000)"
   ]
  },
  {
   "cell_type": "markdown",
   "metadata": {},
   "source": [
    "## Ipyparallel Approach\n",
    "\n",
    "To run the algorithm using ipyparallel, similar to using multiprocessing, we define a function that takes a given input number of darts $n$ to throw, then returns the final approximation of $\\pi$ value and execution time."
   ]
  },
  {
   "cell_type": "markdown",
   "metadata": {},
   "source": [
    "First start ipython cluster by running\n",
    "\n",
    "<center> $ipcluster start -n (number of processers) </center>\n"
   ]
  },
  {
   "cell_type": "code",
   "execution_count": 7,
   "metadata": {},
   "outputs": [
    {
     "data": {
      "text/plain": [
       "<os._wrap_close at 0x104bb3a20>"
      ]
     },
     "execution_count": 7,
     "metadata": {},
     "output_type": "execute_result"
    }
   ],
   "source": [
    "# To run terminal command in python, we use os.popen\n",
    "import os\n",
    "cluster_starting_command = \"ipcluster start -n \"+ str(os.cpu_count())\n",
    "os.popen(cluster_starting_command)"
   ]
  },
  {
   "cell_type": "code",
   "execution_count": 8,
   "metadata": {
    "collapsed": true
   },
   "outputs": [],
   "source": [
    "# Throw n darts in [0, 1] * [0, 1] square\n",
    "# Returns approximated pi-value in monte-carlo simulation and execution time\n",
    "def pi_ipp(n, t_break = True):\n",
    "    \"\"\"\n",
    "    Calculate pi using ipyparallel module\n",
    "    \n",
    "    NOTE\n",
    "    ----------\n",
    "    t_break: Breakdown of the total time spent\n",
    "    t_loop: Time spent in monte carlo simulation in seconds.\n",
    "            Time to initialize ipyparallel client has been excluded.   \n",
    "    \"\"\"\n",
    "    # Initialize an IPyparallel client\n",
    "    # clients = Client() # Initialize outside to avoid opening too many files\n",
    "    n_proc = len(clients.ids)\n",
    "    \n",
    "    # t1 - starting time\n",
    "    t1 = time()\n",
    "    \n",
    "    # average workload of each worker (number of darts that each worker processes)\n",
    "    avg_load = n // n_proc\n",
    "    extra_load = n % avg_load\n",
    "    \n",
    "    # initialize workload for workers\n",
    "    min_load = [avg_load] * n_proc\n",
    "    min_load[n_proc - 1] += extra_load\n",
    "    \n",
    "    # t2 - time to start processing\n",
    "    t2 = time()\n",
    "    \n",
    "    # Create a DirectView object\n",
    "    d_view = clients.direct_view()\n",
    "    with d_view.sync_imports():\n",
    "        from random import uniform\n",
    "    results = d_view.map_async(dart_throw, min_load)\n",
    "    \n",
    "    # Calculate the approximated pi-value\n",
    "    pi_approx = 4 * sum(results) / n\n",
    "    \n",
    "    # t3 - all work done\n",
    "    t3 = time() \n",
    "    \n",
    "    t_loop = t3 - t2\n",
    "    t_setup = t2 - t1\n",
    "    \n",
    "    if t_break:\n",
    "        print(\"set up {0} ipyparallel engines used {1:.3g}s\".format(n_proc, t_setup))\n",
    "        print(\"throwing {0} darts used {1:.3g}s\".format(n, t_loop))\n",
    "    return pi_approx, t_loop"
   ]
  },
  {
   "cell_type": "code",
   "execution_count": 9,
   "metadata": {},
   "outputs": [
    {
     "name": "stdout",
     "output_type": "stream",
     "text": [
      "Number of cpu cores on this machine is : 8\n",
      "importing uniform from random on engine(s)\n",
      "set up 8 ipyparallel engines used 1.91e-06s\n",
      "throwing 1000000 darts used 0.344s\n",
      "CPU times: user 75.9 ms, sys: 37.2 ms, total: 113 ms\n",
      "Wall time: 344 ms\n"
     ]
    },
    {
     "data": {
      "text/plain": [
       "(3.143576, 0.3436579704284668)"
      ]
     },
     "execution_count": 9,
     "metadata": {},
     "output_type": "execute_result"
    }
   ],
   "source": [
    "# Test with 1,000,000 darts\n",
    "clients = Client() # Initialize outside to avoid opening too many files\n",
    "import os\n",
    "print(\"Number of cpu cores on this machine is : \"+ str(os.cpu_count()))\n",
    "%time pi_ipp(1000000)"
   ]
  },
  {
   "cell_type": "markdown",
   "metadata": {},
   "source": [
    "## Performances\n",
    "\n",
    "To see how the performances of different parallelization methods vary, we iterate the methods through different values of n, times the algorithm's performance with each method of parallelization, and returns the total run time and run time per \"dart throw\"."
   ]
  },
  {
   "cell_type": "code",
   "execution_count": 10,
   "metadata": {
    "collapsed": true
   },
   "outputs": [],
   "source": [
    "# First import necessary libraries for plotting\n",
    "import matplotlib.pyplot as plt\n",
    "import numpy as np\n",
    "%matplotlib inline"
   ]
  },
  {
   "cell_type": "code",
   "execution_count": 11,
   "metadata": {
    "collapsed": true
   },
   "outputs": [],
   "source": [
    "n_benchmark = [1e1, 3e1, 1e2, 3e2, 1e3, 3e3, 1e4, 3e4, 1e5, 3e5, 1e6, 3e6, 1e7]"
   ]
  },
  {
   "cell_type": "code",
   "execution_count": 12,
   "metadata": {
    "collapsed": true
   },
   "outputs": [],
   "source": [
    "t_serial = [pi_serial(n)[1] for n in n_benchmark] # Iterate Serial approach through benchmark values"
   ]
  },
  {
   "cell_type": "code",
   "execution_count": 13,
   "metadata": {},
   "outputs": [
    {
     "name": "stdout",
     "output_type": "stream",
     "text": [
      "set up 8 workers used 0.0331s\n",
      "throwing 10.0 darts used 0.00263s\n",
      "terminate 8 workers used 0.106s\n",
      "set up 8 workers used 0.0313s\n",
      "throwing 30.0 darts used 0.00287s\n",
      "terminate 8 workers used 0.103s\n",
      "set up 8 workers used 0.0325s\n",
      "throwing 100.0 darts used 0.00309s\n",
      "terminate 8 workers used 0.105s\n",
      "set up 8 workers used 0.0323s\n",
      "throwing 300.0 darts used 0.00303s\n",
      "terminate 8 workers used 0.106s\n",
      "set up 8 workers used 0.0312s\n",
      "throwing 1000.0 darts used 0.00334s\n",
      "terminate 8 workers used 0.106s\n",
      "set up 8 workers used 0.0323s\n",
      "throwing 3000.0 darts used 0.0039s\n",
      "terminate 8 workers used 0.102s\n",
      "set up 8 workers used 0.0323s\n",
      "throwing 10000.0 darts used 0.00717s\n",
      "terminate 8 workers used 0.103s\n",
      "set up 8 workers used 0.0313s\n",
      "throwing 30000.0 darts used 0.0121s\n",
      "terminate 8 workers used 0.0998s\n",
      "set up 8 workers used 0.0319s\n",
      "throwing 100000.0 darts used 0.0255s\n",
      "terminate 8 workers used 0.0801s\n",
      "set up 8 workers used 0.039s\n",
      "throwing 300000.0 darts used 0.0627s\n",
      "terminate 8 workers used 0.0445s\n",
      "set up 8 workers used 0.0318s\n",
      "throwing 1000000.0 darts used 0.179s\n",
      "terminate 8 workers used 0.0332s\n",
      "set up 8 workers used 0.028s\n",
      "throwing 3000000.0 darts used 0.517s\n",
      "terminate 8 workers used 0.11s\n",
      "set up 8 workers used 0.0323s\n",
      "throwing 10000000.0 darts used 1.77s\n",
      "terminate 8 workers used 0.091s\n"
     ]
    }
   ],
   "source": [
    "t_mp = [pi_mp(n)[1] for n in n_benchmark] # Iterate Multiprocessing approach through benchmark values"
   ]
  },
  {
   "cell_type": "code",
   "execution_count": 14,
   "metadata": {},
   "outputs": [
    {
     "name": "stdout",
     "output_type": "stream",
     "text": [
      "importing uniform from random on engine(s)\n",
      "set up 8 ipyparallel engines used 3.1e-06s\n",
      "throwing 10.0 darts used 0.0675s\n",
      "importing uniform from random on engine(s)\n",
      "set up 8 ipyparallel engines used 3.1e-06s\n",
      "throwing 30.0 darts used 0.0498s\n",
      "importing uniform from random on engine(s)\n",
      "set up 8 ipyparallel engines used 1.91e-06s\n",
      "throwing 100.0 darts used 0.0512s\n",
      "importing uniform from random on engine(s)\n",
      "set up 8 ipyparallel engines used 1.91e-06s\n",
      "throwing 300.0 darts used 0.0557s\n",
      "importing uniform from random on engine(s)\n",
      "set up 8 ipyparallel engines used 2.86e-06s\n",
      "throwing 1000.0 darts used 0.0556s\n",
      "importing uniform from random on engine(s)\n",
      "set up 8 ipyparallel engines used 2.15e-06s\n",
      "throwing 3000.0 darts used 0.0488s\n",
      "importing uniform from random on engine(s)\n",
      "set up 8 ipyparallel engines used 1.91e-06s\n",
      "throwing 10000.0 darts used 0.0499s\n",
      "importing uniform from random on engine(s)\n",
      "set up 8 ipyparallel engines used 1.91e-06s\n",
      "throwing 30000.0 darts used 0.0566s\n",
      "importing uniform from random on engine(s)\n",
      "set up 8 ipyparallel engines used 2.15e-06s\n",
      "throwing 100000.0 darts used 0.0742s\n",
      "importing uniform from random on engine(s)\n",
      "set up 8 ipyparallel engines used 3.1e-06s\n",
      "throwing 300000.0 darts used 0.104s\n",
      "importing uniform from random on engine(s)\n",
      "set up 8 ipyparallel engines used 2.15e-06s\n",
      "throwing 1000000.0 darts used 0.236s\n",
      "importing uniform from random on engine(s)\n",
      "set up 8 ipyparallel engines used 1.91e-06s\n",
      "throwing 3000000.0 darts used 0.597s\n",
      "importing uniform from random on engine(s)\n",
      "set up 8 ipyparallel engines used 1.19e-06s\n",
      "throwing 10000000.0 darts used 1.85s\n"
     ]
    }
   ],
   "source": [
    "clients = Client() # Initialize outside to avoid opening too many files\n",
    "t_ipp = [pi_ipp(n)[1] for n in n_benchmark] # Iterate Ipyparallel module through benchmark values"
   ]
  },
  {
   "cell_type": "code",
   "execution_count": 15,
   "metadata": {},
   "outputs": [
    {
     "name": "stdout",
     "output_type": "stream",
     "text": [
      "Processor Type: Macbook Pro with 2.9 GHz Intel Core i7, 4 Cores\n"
     ]
    },
    {
     "data": {
      "image/png": "[encoded data removed]",
      "text/plain": [
       "<matplotlib.figure.Figure at 0x1069dd828>"
      ]
     },
     "metadata": {},
     "output_type": "display_data"
    }
   ],
   "source": [
    "print(\"Processor Type: Macbook Pro with 2.9 GHz Intel Core i7, 4 Cores\")\n",
    "fs = 20\n",
    "f1, ax1= plt.subplots(figsize = [12, 9])\n",
    "ax1.plot(n_benchmark, t_ipp, label = 'Ipyparallel', color = 'blue')\n",
    "ax1.plot(n_benchmark, t_mp, label = 'Multiprocessing', color = 'red')\n",
    "ax1.plot(n_benchmark, t_serial, label = 'Serial', color = 'green')\n",
    "\n",
    "ax1.set_yscale('log')\n",
    "ax1.set_xscale('log')\n",
    "plt.legend(loc = 'best')\n",
    "ax1.set_xlabel('Number of darts thrown', fontsize = fs)\n",
    "ax1.set_ylabel('Execution time (s): solid line', fontsize = fs)\n",
    "\n",
    "ax2 = ax1.twinx()\n",
    "n_bm_np = np.array(n_benchmark)\n",
    "ax2.plot(n_benchmark, n_bm_np/np.array(t_ipp), '--', color = 'blue')\n",
    "ax2.plot(n_benchmark, n_bm_np/np.array(t_mp), '--', color = 'red')\n",
    "ax2.plot(n_benchmark, n_bm_np/np.array(t_serial), '--', color = 'green')\n",
    "\n",
    "ax2.set_yscale('log')\n",
    "ax2.set_xscale('log')\n",
    "\n",
    "ax2.set_ylabel('Simulation rate (darts/s): dashed line', fontsize = fs)\n",
    "plt.show()"
   ]
  },
  {
   "cell_type": "code",
   "execution_count": 16,
   "metadata": {
    "collapsed": true
   },
   "outputs": [],
   "source": [
    "f1.savefig('Performances.png', dpi = 300) # Save the plot for further references"
   ]
  },
  {
   "cell_type": "code",
   "execution_count": null,
   "metadata": {
    "collapsed": true
   },
   "outputs": [],
   "source": []
  }
 ],
 "metadata": {
  "kernelspec": {
   "display_name": "Python 3",
   "language": "python",
   "name": "python3"
  },
  "language_info": {
   "codemirror_mode": {
    "name": "ipython",
    "version": 3
   },
   "file_extension": ".py",
   "mimetype": "text/x-python",
   "name": "python",
   "nbconvert_exporter": "python",
   "pygments_lexer": "ipython3",
   "version": "3.6.2"
  }
 },
 "nbformat": 4,
 "nbformat_minor": 2
}
